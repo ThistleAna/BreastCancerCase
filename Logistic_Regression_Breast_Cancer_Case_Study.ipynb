{
  "nbformat": 4,
  "nbformat_minor": 0,
  "metadata": {
    "colab": {
      "name": "Logistic Regression-Breast Cancer Case Study",
      "provenance": [],
      "include_colab_link": true
    },
    "kernelspec": {
      "name": "python3",
      "display_name": "Python 3"
    }
  },
  "cells": [
    {
      "cell_type": "markdown",
      "metadata": {
        "id": "view-in-github",
        "colab_type": "text"
      },
      "source": [
        "<a href=\"https://colab.research.google.com/github/ThistleAna/BreastCancerCase/blob/main/Logistic_Regression_Breast_Cancer_Case_Study.ipynb\" target=\"_parent\"><img src=\"https://colab.research.google.com/assets/colab-badge.svg\" alt=\"Open In Colab\"/></a>"
      ]
    },
    {
      "cell_type": "markdown",
      "metadata": {
        "id": "Q8X8xDwS6vgS"
      },
      "source": [
        "# Logistic Regression"
      ]
    },
    {
      "cell_type": "markdown",
      "metadata": {
        "id": "G7cuw-uByp6d"
      },
      "source": [
        "Logistic regression is a method of statistical analysis used to predict a data value based on prior observations of a dataset. A logistic regression model predicts the value of a dependent variable by analyzing the relationship between one or more existing independent variables.\n",
        "\n",
        "In data science, logistic regression is a Machine Learning algorithm used for classification problems and predictive analysis.\n",
        "\n",
        "More real-world applications of logistical regression include:\n",
        "\n",
        "Bankruptcy predictions\n",
        "\n",
        "Credit scoring\n",
        "\n",
        "Consumer behavior\n",
        "\n",
        "Customer retention\n",
        "\n",
        "Spam detection"
      ]
    },
    {
      "cell_type": "markdown",
      "metadata": {
        "id": "PEGG4I6n60cM"
      },
      "source": [
        "## Importing the libraries"
      ]
    },
    {
      "cell_type": "code",
      "metadata": {
        "id": "zns-OhVCk5oR"
      },
      "source": [
        "# Calling Pandas library\n",
        "import pandas as pd"
      ],
      "execution_count": null,
      "outputs": []
    },
    {
      "cell_type": "markdown",
      "metadata": {
        "id": "Aa536pRY7Eq5"
      },
      "source": [
        "## Importing the dataset"
      ]
    },
    {
      "cell_type": "code",
      "metadata": {
        "id": "VGDOrAn9k8oP"
      },
      "source": [
        "# Upload dataset into colab\n",
        "# Class has value 2 or benign cancer, 4 for malignant cance\n",
        "# Importing the dataset\n",
        "dataset = pd.read_csv('breast_cancer.csv')\n",
        "\n",
        "# Create 2 sets, X is set of independent variable (all columns except 'class', remove index 0 as we don't need the data from that col)\n",
        "# y is set of dependent variable 'class'\n",
        "X = dataset.iloc[:,1:-1].values # all rows, and columns index 1 to all minus one col\n",
        "y = dataset.iloc[:,-1] # all rows, and the last column"
      ],
      "execution_count": null,
      "outputs": []
    },
    {
      "cell_type": "markdown",
      "metadata": {
        "id": "0AnzJQCj7TLO"
      },
      "source": [
        "## Splitting the dataset into the Training set and Test set"
      ]
    },
    {
      "cell_type": "code",
      "metadata": {
        "id": "41WYqEY5psEl"
      },
      "source": [
        "# Get the function from Sklearn library that can split each set to test and train sets\n",
        "from sklearn.model_selection import train_test_split\n",
        "# Create 4 subsets from X and y\n",
        "X_train, X_test, y_train, y_test = train_test_split(X, y , test_size = 0.2, random_state = 0)\n",
        "# Test size is 20% from all entries (683)"
      ],
      "execution_count": null,
      "outputs": []
    },
    {
      "cell_type": "markdown",
      "metadata": {
        "id": "pS1Q-n_A7iZ_"
      },
      "source": [
        "## Training the Logistic Regression model on the Training set"
      ]
    },
    {
      "cell_type": "code",
      "metadata": {
        "colab": {
          "base_uri": "https://localhost:8080/"
        },
        "id": "SK2NK4v3rRiw",
        "outputId": "05a85607-191a-4b58-ad86-0060527e81f7"
      },
      "source": [
        "from sklearn.linear_model import LogisticRegression\n",
        "# Create the object/instance of lrr calle classifier\n",
        "classifier = LogisticRegression(random_state = 0)\n",
        "# Train X and y train sets using method called fit()\n",
        "classifier.fit(X_train, y_train)\n"
      ],
      "execution_count": null,
      "outputs": [
        {
          "output_type": "execute_result",
          "data": {
            "text/plain": [
              "LogisticRegression(C=1.0, class_weight=None, dual=False, fit_intercept=True,\n",
              "                   intercept_scaling=1, l1_ratio=None, max_iter=100,\n",
              "                   multi_class='auto', n_jobs=None, penalty='l2',\n",
              "                   random_state=0, solver='lbfgs', tol=0.0001, verbose=0,\n",
              "                   warm_start=False)"
            ]
          },
          "metadata": {
            "tags": []
          },
          "execution_count": 9
        }
      ]
    },
    {
      "cell_type": "markdown",
      "metadata": {
        "id": "4cgD7EnB8Dnd"
      },
      "source": [
        "## Predicting the Test set results"
      ]
    },
    {
      "cell_type": "code",
      "metadata": {
        "id": "asECF7lVsSyf"
      },
      "source": [
        "# Whether the tumor is benign or malignant\n",
        "# Call method called predict()\n",
        "y_pred = classifier.predict(X_test)"
      ],
      "execution_count": null,
      "outputs": []
    },
    {
      "cell_type": "markdown",
      "metadata": {
        "id": "26CHkZbs8Tu5"
      },
      "source": [
        "## Making the Confusion Matrix"
      ]
    },
    {
      "cell_type": "code",
      "metadata": {
        "colab": {
          "base_uri": "https://localhost:8080/"
        },
        "id": "v4sCJM_mtVVw",
        "outputId": "d6bda27a-29ee-4249-c693-e7171ffc880c"
      },
      "source": [
        "# Make correct and incorrect prediction using sklearn module metrics()\n",
        "from sklearn.metrics import confusion_matrix\n",
        "# Introduce new variable\n",
        "# parameter: ground truth (y_test) and prediction (y_pred)\n",
        "cm = confusion_matrix(y_test, y_pred)\n",
        "print(cm)"
      ],
      "execution_count": null,
      "outputs": [
        {
          "output_type": "stream",
          "text": [
            "[[84  3]\n",
            " [ 3 47]]\n"
          ],
          "name": "stdout"
        }
      ]
    },
    {
      "cell_type": "markdown",
      "metadata": {
        "id": "tqb9SEJZuBUb"
      },
      "source": [
        "84 correct prediction that the tumor is benign\n",
        "47 correct prediction that the tumor is malignant\n",
        "\n",
        "\n",
        "3 incorrect prediction that tumor is benign\n",
        "3 incorrect prediction that the tumor is malignant\n",
        "\n",
        "84+47 = 131 correct prediction out of 137 from the test set\n",
        "\n",
        ">> our model performs super well on the training set\n",
        "\n"
      ]
    },
    {
      "cell_type": "code",
      "metadata": {
        "colab": {
          "base_uri": "https://localhost:8080/"
        },
        "id": "8RIuXqWdvAQh",
        "outputId": "1689e968-62bc-4b83-df11-fba3016abe19"
      },
      "source": [
        "# What is our accuracy\n",
        "(84+47)/(84+47+3+3)"
      ],
      "execution_count": null,
      "outputs": [
        {
          "output_type": "execute_result",
          "data": {
            "text/plain": [
              "0.9562043795620438"
            ]
          },
          "metadata": {
            "tags": []
          },
          "execution_count": 12
        }
      ]
    },
    {
      "cell_type": "markdown",
      "metadata": {
        "id": "-WsoHxoavD4X"
      },
      "source": [
        "accuracy is 95.62 %"
      ]
    },
    {
      "cell_type": "markdown",
      "metadata": {
        "id": "kMErnLnu8hmb"
      },
      "source": [
        "## Computing the accuracy with k-Fold Cross Validation"
      ]
    },
    {
      "cell_type": "code",
      "metadata": {
        "colab": {
          "base_uri": "https://localhost:8080/"
        },
        "id": "bZAIR-UwvOR6",
        "outputId": "d80d77ea-b978-41ae-8eaa-d9102f4da24a"
      },
      "source": [
        "from sklearn.model_selection import cross_val_score\n",
        "# accuracy of 10 from function cross_val_score()\n",
        "# first argument is classifier, second one is database, and cv of 10\n",
        "accuracies = cross_val_score(estimator = classifier, X = X_train, y = y_train, cv = 10 )\n",
        "print(\"Accuracy:  {:.2f} %\".format(accuracies.mean()*100))\n",
        "# Chop off the decimal float into 2 digits\n",
        "\n",
        "# Print standard deviation\n",
        "print(\"Standard Deviation: {:.2f} %\".format(accuracies.std()*100))\n"
      ],
      "execution_count": null,
      "outputs": [
        {
          "output_type": "stream",
          "text": [
            "Accuracy:  96.70 %\n",
            "Standard Deviation: 1.97 %\n"
          ],
          "name": "stdout"
        }
      ]
    },
    {
      "cell_type": "markdown",
      "metadata": {
        "id": "1fuiAjFjxeNN"
      },
      "source": [
        "very good observation!!\n",
        "RRL performing well for the Breast Cancer model"
      ]
    }
  ]
}